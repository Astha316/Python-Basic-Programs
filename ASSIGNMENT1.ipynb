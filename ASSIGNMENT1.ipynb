{
 "cells": [
  {
   "cell_type": "markdown",
   "id": "accbd7e6",
   "metadata": {},
   "source": [
    "# 1.\tWrite a Python program to print \"Hello Python\"?"
   ]
  },
  {
   "cell_type": "code",
   "execution_count": 1,
   "id": "e42864bd",
   "metadata": {},
   "outputs": [
    {
     "name": "stdout",
     "output_type": "stream",
     "text": [
      "Hello Python\n"
     ]
    }
   ],
   "source": [
    "print(\"Hello Python\")"
   ]
  },
  {
   "cell_type": "markdown",
   "id": "8c389452",
   "metadata": {},
   "source": [
    "# 2.\tWrite a Python program to do arithmetical operations addition and division.?"
   ]
  },
  {
   "cell_type": "code",
   "execution_count": 2,
   "id": "9b0ca169",
   "metadata": {},
   "outputs": [
    {
     "name": "stdout",
     "output_type": "stream",
     "text": [
      "Enter first number:5\n",
      "Enter second number:6\n",
      "11\n",
      "1.2\n"
     ]
    }
   ],
   "source": [
    "num1 = int(input(\"Enter first number:\"))\n",
    "num2 = int(input(\"Enter second number:\"))\n",
    "Add = num1+ num2\n",
    "Div = num2/num1\n",
    "print(Add)\n",
    "print(Div)\n"
   ]
  },
  {
   "cell_type": "code",
   "execution_count": 3,
   "id": "3234321a",
   "metadata": {},
   "outputs": [
    {
     "name": "stdout",
     "output_type": "stream",
     "text": [
      "30\n",
      "2.0\n"
     ]
    }
   ],
   "source": [
    "a = 10\n",
    "b = 20\n",
    "print(a+b)\n",
    "print(b/a)"
   ]
  },
  {
   "cell_type": "code",
   "execution_count": 4,
   "id": "d4377659",
   "metadata": {},
   "outputs": [
    {
     "name": "stdout",
     "output_type": "stream",
     "text": [
      "30\n",
      "25.0\n"
     ]
    }
   ],
   "source": [
    "print(10+20)\n",
    "print(50/2)"
   ]
  },
  {
   "cell_type": "markdown",
   "id": "db6db808",
   "metadata": {},
   "source": [
    "# 3.\tWrite a Python program to find the area of a triangle?"
   ]
  },
  {
   "cell_type": "code",
   "execution_count": 7,
   "id": "b25ad10d",
   "metadata": {},
   "outputs": [
    {
     "name": "stdout",
     "output_type": "stream",
     "text": [
      "Area of Triangle: 45.0\n"
     ]
    }
   ],
   "source": [
    "height = 10\n",
    "base = 9\n",
    "area = (1*height*base)/2\n",
    "print(\"Area of Triangle:\", area)"
   ]
  },
  {
   "cell_type": "code",
   "execution_count": 8,
   "id": "0eed11ab",
   "metadata": {},
   "outputs": [
    {
     "name": "stdout",
     "output_type": "stream",
     "text": [
      "Enter height of Triangle: 15\n",
      "Enter base of Triangle: 20\n",
      "Area of Triangle:  150.0\n"
     ]
    }
   ],
   "source": [
    "#Area of Triangle\n",
    "height = int(input(\"Enter height of Triangle: \"))\n",
    "base = int(input(\"Enter base of Triangle: \"))\n",
    "area = (1*height*base)/2\n",
    "print(\"Area of Triangle: \", area)"
   ]
  },
  {
   "cell_type": "markdown",
   "id": "cec1bbd9",
   "metadata": {},
   "source": [
    "# 4.\tWrite a Python program to swap two variables?"
   ]
  },
  {
   "cell_type": "code",
   "execution_count": 10,
   "id": "2a44a242",
   "metadata": {},
   "outputs": [
    {
     "name": "stdout",
     "output_type": "stream",
     "text": [
      "Enter value of a: 15\n",
      "Enter value of b: 20\n",
      "20 15\n"
     ]
    }
   ],
   "source": [
    "a = input(\"Enter value of a: \")\n",
    "b = input(\"Enter value of b: \")\n",
    "temp = a\n",
    "a = b\n",
    "b = temp\n",
    "print(a,b)\n"
   ]
  },
  {
   "cell_type": "markdown",
   "id": "25c82cf0",
   "metadata": {},
   "source": [
    "# 5.\tWrite a Python program to generate a random number?"
   ]
  },
  {
   "cell_type": "code",
   "execution_count": 13,
   "id": "e965ddd8",
   "metadata": {},
   "outputs": [
    {
     "name": "stdout",
     "output_type": "stream",
     "text": [
      "165\n"
     ]
    }
   ],
   "source": [
    "import random\n",
    "a = 100\n",
    "b = 200\n",
    "c = random.randrange(a,b)\n",
    "print(c)"
   ]
  },
  {
   "cell_type": "code",
   "execution_count": 25,
   "id": "e4265660",
   "metadata": {},
   "outputs": [
    {
     "name": "stdout",
     "output_type": "stream",
     "text": [
      "62\n"
     ]
    }
   ],
   "source": [
    "random_integer = random.randint(60,120)\n",
    "print(random_integer)"
   ]
  },
  {
   "cell_type": "code",
   "execution_count": null,
   "id": "c11d78f2",
   "metadata": {},
   "outputs": [],
   "source": []
  },
  {
   "cell_type": "code",
   "execution_count": null,
   "id": "abdb5b5d",
   "metadata": {},
   "outputs": [],
   "source": []
  },
  {
   "cell_type": "code",
   "execution_count": null,
   "id": "2143562c",
   "metadata": {},
   "outputs": [],
   "source": []
  }
 ],
 "metadata": {
  "kernelspec": {
   "display_name": "Python 3 (ipykernel)",
   "language": "python",
   "name": "python3"
  },
  "language_info": {
   "codemirror_mode": {
    "name": "ipython",
    "version": 3
   },
   "file_extension": ".py",
   "mimetype": "text/x-python",
   "name": "python",
   "nbconvert_exporter": "python",
   "pygments_lexer": "ipython3",
   "version": "3.9.13"
  }
 },
 "nbformat": 4,
 "nbformat_minor": 5
}
